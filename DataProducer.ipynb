{
 "cells": [
  {
   "cell_type": "code",
   "execution_count": 1,
   "metadata": {},
   "outputs": [
    {
     "name": "stdout",
     "output_type": "stream",
     "text": [
      "Requirement already satisfied: kafka-python in c:\\users\\shant\\onedrive\\developer\\personal\\stockanalysis\\.stockanalysis\\lib\\site-packages (2.0.2)\n",
      "Note: you may need to restart the kernel to use updated packages.\n"
     ]
    }
   ],
   "source": [
    "python -m venv .stockAnalysis\n",
    "pip install -r requirements.txt"
   ]
  },
  {
   "cell_type": "code",
   "execution_count": 1,
   "metadata": {},
   "outputs": [
    {
     "name": "stdout",
     "output_type": "stream",
     "text": [
      "{'Price': 294.5, 'Name': 'ZOMATO.NS', 'Timestamp': 1727154879217}\n",
      "{'Price': 294.70001220703125, 'Name': 'ZOMATO.NS', 'Timestamp': 1727154891331}\n",
      "{'Price': 294.6499938964844, 'Name': 'ZOMATO.NS', 'Timestamp': 1727154903436}\n",
      "{'Price': 294.70001220703125, 'Name': 'ZOMATO.NS', 'Timestamp': 1727154915595}\n",
      "{'Price': 294.54998779296875, 'Name': 'ZOMATO.NS', 'Timestamp': 1727154927699}\n",
      "{'Price': 294.5, 'Name': 'ZOMATO.NS', 'Timestamp': 1727154939817}\n",
      "{'Price': 294.5, 'Name': 'ZOMATO.NS', 'Timestamp': 1727154951936}\n",
      "{'Price': 294.3999938964844, 'Name': 'ZOMATO.NS', 'Timestamp': 1727154964033}\n",
      "{'Price': 294.5, 'Name': 'ZOMATO.NS', 'Timestamp': 1727154976149}\n",
      "{'Price': 294.3999938964844, 'Name': 'ZOMATO.NS', 'Timestamp': 1727154988287}\n",
      "{'Price': 294.3999938964844, 'Name': 'ZOMATO.NS', 'Timestamp': 1727155000432}\n",
      "{'Price': 294.54998779296875, 'Name': 'ZOMATO.NS', 'Timestamp': 1727155012532}\n",
      "{'Price': 294.6499938964844, 'Name': 'ZOMATO.NS', 'Timestamp': 1727155024643}\n",
      "{'Price': 294.6000061035156, 'Name': 'ZOMATO.NS', 'Timestamp': 1727155036774}\n",
      "{'Price': 294.45001220703125, 'Name': 'ZOMATO.NS', 'Timestamp': 1727155048898}\n",
      "{'Price': 294.5, 'Name': 'ZOMATO.NS', 'Timestamp': 1727155060998}\n",
      "{'Price': 294.3999938964844, 'Name': 'ZOMATO.NS', 'Timestamp': 1727155073102}\n",
      "{'Price': 294.5, 'Name': 'ZOMATO.NS', 'Timestamp': 1727155085248}\n",
      "{'Price': 294.5, 'Name': 'ZOMATO.NS', 'Timestamp': 1727155097420}\n",
      "{'Price': 294.5, 'Name': 'ZOMATO.NS', 'Timestamp': 1727155109536}\n",
      "{'Price': 294.5, 'Name': 'ZOMATO.NS', 'Timestamp': 1727155121677}\n"
     ]
    }
   ],
   "source": [
    "import yfinance as yf\n",
    "import json\n",
    "from time import sleep\n",
    "import sys\n",
    "import time\n",
    "\n",
    "\n",
    "if sys.version_info >= (3, 12, 0):\n",
    "    import six\n",
    "    sys.modules['kafka.vendor.six.moves'] = six.moves\n",
    "\n",
    "from kafka import KafkaProducer\n",
    "\n",
    "ticker = \"ZOMATO.NS\"\n",
    "# stock = yf.Ticker(ticker)\n",
    "# hist = stock.history(period=\"1d\" ,interval='1m')\n",
    "# hist[\"Timestamp\"] = hist.index\n",
    "\n",
    "# producer  = KafkaProducer(bootstrap_servers=\"localhost:9092\",value_serializer=lambda x: json.dumps(x).encode(\"utf-8\"))\n",
    "counter = 0\n",
    "while counter<=20:\n",
    "    \n",
    "    zomato = {}\n",
    "    ## If random data is required of the stock of latest market date\n",
    "    # zomato[\"Price\"] = json.loads(hist.sample().to_json(orient=\"records\"))[0][\"High\"]\n",
    "    \n",
    "    #return latest price\n",
    "    stock = yf.Ticker(ticker)\n",
    "    zomato[\"Price\"] = stock.fast_info.last_price\n",
    "    \n",
    "    zomato[\"Name\"] = \"ZOMATO.NS\"\n",
    "    zomato[\"Timestamp\"] = round(time.time() * 1000)\n",
    "    print(zomato)\n",
    "    # producer.send(ticker,zomato)\n",
    "    sleep(12)\n",
    "    counter+=1"
   ]
  },
  {
   "cell_type": "code",
   "execution_count": null,
   "metadata": {},
   "outputs": [],
   "source": []
  }
 ],
 "metadata": {
  "kernelspec": {
   "display_name": ".stockAnalysis",
   "language": "python",
   "name": "python3"
  },
  "language_info": {
   "codemirror_mode": {
    "name": "ipython",
    "version": 3
   },
   "file_extension": ".py",
   "mimetype": "text/x-python",
   "name": "python",
   "nbconvert_exporter": "python",
   "pygments_lexer": "ipython3",
   "version": "3.12.4"
  }
 },
 "nbformat": 4,
 "nbformat_minor": 2
}
